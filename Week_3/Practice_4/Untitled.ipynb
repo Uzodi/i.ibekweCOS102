{
 "cells": [
  {
   "cell_type": "code",
   "execution_count": 4,
   "id": "e3c620f7-46b8-4dcd-86ac-c52dc2263ec4",
   "metadata": {},
   "outputs": [
    {
     "name": "stdout",
     "output_type": "stream",
     "text": [
      "('Ekiti', 750, 'Oshogbo', 250, 'Akure', 500)\n",
      "500\n",
      "('Oshogbo', 250)\n",
      "(250, 'Akure', 500)\n",
      "('Abeokuta', 300, 'Ogbomoso', 'Abeokuta', 300, 'Ogbomoso', 'Abeokuta', 300, 'Ogbomoso')\n",
      "('Ekiti', 750, 'Oshogbo', 250, 'Akure', 500, 'Abeokuta', 300, 'Ogbomoso')\n"
     ]
    }
   ],
   "source": [
    "tuple = (\"Ekiti\", 750 , 'Oshogbo', 250 , \"Akure\",500)\n",
    "s_tuple = (\"Abeokuta\" , 300 , \"Ogbomoso\")\n",
    "\n",
    "#Prints the complete tuple \n",
    "print (tuple)\n",
    "\n",
    "#Prints the last element of the tuple \n",
    "print (tuple[-1])\n",
    "\n",
    "#Prints elements of the tuple  starting from 2nd till 3rd\n",
    "print (tuple[2:4])\n",
    "\n",
    "#Prints elements of the tuple starting from the third element\n",
    "print (tuple[3:])\n",
    "\n",
    "#Prints the content of the tuple twice\n",
    "print (s_tuple * 3)\n",
    "\n",
    "#Prints concatenated tuples\n",
    "print (tuple + s_tuple)\n"
   ]
  },
  {
   "cell_type": "code",
   "execution_count": null,
   "id": "c57939e1-c169-48ca-9110-36cdc034de32",
   "metadata": {},
   "outputs": [],
   "source": []
  }
 ],
 "metadata": {
  "kernelspec": {
   "display_name": "Python 3 (ipykernel)",
   "language": "python",
   "name": "python3"
  },
  "language_info": {
   "codemirror_mode": {
    "name": "ipython",
    "version": 3
   },
   "file_extension": ".py",
   "mimetype": "text/x-python",
   "name": "python",
   "nbconvert_exporter": "python",
   "pygments_lexer": "ipython3",
   "version": "3.11.7"
  }
 },
 "nbformat": 4,
 "nbformat_minor": 5
}
