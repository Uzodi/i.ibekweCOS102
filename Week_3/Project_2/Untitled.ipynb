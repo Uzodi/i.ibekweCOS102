{
 "cells": [
  {
   "cell_type": "code",
   "execution_count": 34,
   "id": "aa8b1d37-8594-4568-b37a-fca4613ca7ff",
   "metadata": {},
   "outputs": [
    {
     "ename": "SyntaxError",
     "evalue": "unterminated string literal (detected at line 45) (3445786850.py, line 45)",
     "output_type": "error",
     "traceback": [
      "\u001b[1;36m  Cell \u001b[1;32mIn[34], line 45\u001b[1;36m\u001b[0m\n\u001b[1;33m    print (f\"The solutions of the equations are {x1} ,{x2} and {x3}\u001b[0m\n\u001b[1;37m           ^\u001b[0m\n\u001b[1;31mSyntaxError\u001b[0m\u001b[1;31m:\u001b[0m unterminated string literal (detected at line 45)\n"
     ]
    }
   ],
   "source": [
    "print (\"What type of equation would you like to solve\")\n",
    "print(\"Quadratic\")\n",
    "print(\"Quartic\")\n",
    "print(\"Cubic\") \n",
    "import math\n",
    "choice = input(\" select the equation of your choice \")\n",
    "\n",
    "#Quadratic equations\n",
    "if choice == \"Quadratic\":\n",
    "    a = float(input(\"Put the value of the first coefficient:\"))\n",
    "    b = float(input(\"Put the value of the second coefficient:\"))\n",
    "    c = float(input(\"Put the value of the third coefficient:\"))\n",
    "#First value of x    \n",
    "    x1= pow(-b,2) +( math. sqrt (pow(b,2))-(4*a*c))/2*a\n",
    "#second value of x     \n",
    "    x2= pow(-b,2) -( math. sqrt (pow(b,2))-(4*a*c))/2*a\n",
    "    print (f\"the solution of the quadratic equation are {x1} and {x2}.\")\n",
    "#Quartic equations\n",
    "elif choice == \"Quartic\":\n",
    "    a = float(input(\"Put in a value\"))\n",
    "    b = float(input(\"Put in a value\"))\n",
    "    c = float(input(\"Put in a value\"))\n",
    "    d = float(input(\"Put in a value\"))\n",
    "    e = float(input(\"Put in a value\"))\n",
    "    w = (4* a * c) - (3 * (b **2))\n",
    "    o = (16 * (a ** 2) * e) - (16 * a * b) + (5 *(b**3)) * (16 *c *d) - (8*(b**2)*e)\n",
    "    x1 = (-b/(4*a)) +(sqrt(w)/(4*a)) +((sqrt(+o))/ (4*a))\n",
    "    x2 = (-b/(4*a)) -(sqrt(w)/(4*a)) +((sqrt(+o))/ (4*a))\n",
    "    x3 = (-b/(4*a)) +(sqrt(w)/(4*a)) -((sqrt(+o))/(4*a))\n",
    "    x4 = (-b/(4*a)) -(sqrt(w)/(4*a)) -((sqrt(+o))/(4*a))\n",
    "    print (f\"the solutions of the equation {x1} ,{x2},{x3} and {x4}.\")\n",
    "#Cubic equations\n",
    "elif choice ==\" Cubic\":\n",
    "    a = float(input(\"Put in the value\"))\n",
    "    b = float(input(\"put in the value\"))\n",
    "    c = float(input(\"Put in the value\"))\n",
    "    d = float(input(\"Put in the value\"))\n",
    "    q = (b**2) - (3*a*c)\n",
    "    i = (2*(b**3)) -((*a*b*c) +(27*(a**2)*d)\n",
    "    r1 = math.cbrt((i+math.sqrt((i**2)-(4*(q**3)))/2))\n",
    "    e = (-1 + sqrt(-3))/2\n",
    "    x1 =(-1 / (3*a)) *(b+r1+(q/r1))\n",
    "    x2 = (-1/(3*a)) * (b+(e*r1))+(q/(e*r1))\n",
    "    x3 = (-1 / (3*a)) *(b+((e**2)*r1)+(q/((e**2)+r1)))\n",
    "    print (f\"The solutions of the equations are {x1} ,{x2} and {x3}\n",
    "\n",
    "else\n",
    " print(\"The number you picked does not exist\")\n",
    "    \n",
    "    \n",
    "\n",
    "\n",
    "\n",
    "\n",
    "\n",
    "\n",
    "\n",
    "\n",
    "\n",
    "\n"
   ]
  },
  {
   "cell_type": "code",
   "execution_count": null,
   "id": "0fee6e08-f1da-4303-8d4d-9b834dc2146e",
   "metadata": {},
   "outputs": [],
   "source": []
  },
  {
   "cell_type": "code",
   "execution_count": 16,
   "id": "814d92a4-5456-48d6-b05a-5b2c8a2f4305",
   "metadata": {},
   "outputs": [
    {
     "name": "stdout",
     "output_type": "stream",
     "text": [
      "What type of equation would you like to solve\n",
      "Quadratic\n",
      "Cubic\n",
      "Quartic\n"
     ]
    }
   ],
   "source": []
  },
  {
   "cell_type": "code",
   "execution_count": null,
   "id": "782ca9ec-c257-4356-9d75-95c8cd8251a5",
   "metadata": {},
   "outputs": [],
   "source": []
  }
 ],
 "metadata": {
  "kernelspec": {
   "display_name": "Python 3 (ipykernel)",
   "language": "python",
   "name": "python3"
  },
  "language_info": {
   "codemirror_mode": {
    "name": "ipython",
    "version": 3
   },
   "file_extension": ".py",
   "mimetype": "text/x-python",
   "name": "python",
   "nbconvert_exporter": "python",
   "pygments_lexer": "ipython3",
   "version": "3.11.7"
  }
 },
 "nbformat": 4,
 "nbformat_minor": 5
}
