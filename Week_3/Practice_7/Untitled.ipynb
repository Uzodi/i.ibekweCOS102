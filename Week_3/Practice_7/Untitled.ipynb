{
 "cells": [
  {
   "cell_type": "code",
   "execution_count": 4,
   "id": "ae375746-d745-4886-9255-ca7af6beeaa3",
   "metadata": {},
   "outputs": [
    {
     "name": "stdin",
     "output_type": "stream",
     "text": [
      "Input the value of cgpa 4.4\n"
     ]
    },
    {
     "name": "stdout",
     "output_type": "stream",
     "text": [
      "Grade = 97.0\n",
      "GPA =5.0\n",
      "CGPA = 4.4\n"
     ]
    }
   ],
   "source": [
    "# Convert to float \n",
    " \n",
    "grade = float(97)\n",
    "gpa = float(5)\n",
    "cgpa = float(input(\"Input the value of cgpa\"))\n",
    "\n",
    "print(f\"Grade = {grade}\")\n",
    "print(f\"GPA ={gpa}\")\n",
    "print (f\"CGPA = {cgpa}\")"
   ]
  },
  {
   "cell_type": "code",
   "execution_count": null,
   "id": "83ee4e24-f1d6-4d46-bad0-65eb4d6c31a2",
   "metadata": {},
   "outputs": [],
   "source": []
  }
 ],
 "metadata": {
  "kernelspec": {
   "display_name": "Python 3 (ipykernel)",
   "language": "python",
   "name": "python3"
  },
  "language_info": {
   "codemirror_mode": {
    "name": "ipython",
    "version": 3
   },
   "file_extension": ".py",
   "mimetype": "text/x-python",
   "name": "python",
   "nbconvert_exporter": "python",
   "pygments_lexer": "ipython3",
   "version": "3.11.7"
  }
 },
 "nbformat": 4,
 "nbformat_minor": 5
}
