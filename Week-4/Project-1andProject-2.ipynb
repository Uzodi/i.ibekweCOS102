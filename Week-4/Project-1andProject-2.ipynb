{
 "cells": [
  {
   "cell_type": "code",
   "execution_count": null,
   "id": "cd89ac46-c872-4c00-8481-78f904e931b6",
   "metadata": {
    "scrolled": true
   },
   "outputs": [
    {
     "name": "stdin",
     "output_type": "stream",
     "text": [
      "How many boys are you inputing data for? 2\n",
      "How many girls are you inputing data for? 1\n",
      "Enter his name werner\n"
     ]
    }
   ],
   "source": [
    "# Python program to give the names and other data of boys and girls in a class\n",
    "\n",
    "Number_b = int(input(\"How many boys are you inputing data for?\"))\n",
    "Number_g = int(input(\"How many girls are you inputing data for?\"))\n",
    "\n",
    "# Data for the boys\n",
    "\n",
    "name_b = []\n",
    "for i in range (Number_b):\n",
    "    nb = input(\"Enter his name\")\n",
    "    name_b = [nb]\n",
    "age_b = []\n",
    "for i in range (Number_b):\n",
    "    ab = int(input(\"Enter his age\"))\n",
    "    age_b = [ab]\n",
    "height_b = []\n",
    "for i in range (Number_b):\n",
    "    hb = float(input(\"Enter his height\"))\n",
    "    heigth_b = [hb]\n",
    "scores_b = []\n",
    "for i in range (Number_b):\n",
    "    sb = int(input(\"Enter his score\"))\n",
    "    scores_b = [sb]\n",
    "\n",
    "for i in range (Number_b):\n",
    "    print(i,[nb],[ab],[hb],[sb])\n",
    "\n",
    "# Data for the girls\n",
    "\n",
    "name_g = []\n",
    "for i in range (Number_g):\n",
    "    ng = input(\"Enter her name\")\n",
    "    name_g = [ng]\n",
    "age_g = []\n",
    "for i in range (Number_g):\n",
    "    ag = int(input(\"Enter her age\"))\n",
    "    age_g = [ag]\n",
    "height_g = []\n",
    "for i in range (Number_g):\n",
    "    hg = float(input(\"Enter her height\"))\n",
    "    heigth_g = [hg]\n",
    "scores_g = []\n",
    "for i in range (Number_g):\n",
    "    sg = int(input(\"Enter her score\"))\n",
    "    scores_g = [sg]\n",
    "\n",
    "for i in range (Number_g):\n",
    "    print(i,[ng],[ag],[hg],[sg])\n",
    "\n"
   ]
  },
  {
   "cell_type": "code",
   "execution_count": 15,
   "id": "c4a49ea9-bccd-4269-b3c6-cf6eaa1500c3",
   "metadata": {},
   "outputs": [
    {
     "name": "stdout",
     "output_type": "stream",
     "text": [
      "Welcome to the Annual Tax Revenue (ATR) Determiner for Izfin Technology Staff\n"
     ]
    },
    {
     "name": "stdin",
     "output_type": "stream",
     "text": [
      "Enter the staff's name werner\n",
      "Enter the staff's Years of Experience \n"
     ]
    },
    {
     "ename": "ValueError",
     "evalue": "invalid literal for int() with base 10: ''",
     "output_type": "error",
     "traceback": [
      "\u001b[1;31m---------------------------------------------------------------------------\u001b[0m",
      "\u001b[1;31mValueError\u001b[0m                                Traceback (most recent call last)",
      "Cell \u001b[1;32mIn[15], line 6\u001b[0m\n\u001b[0;32m      3\u001b[0m \u001b[38;5;28mprint\u001b[39m(\u001b[38;5;124m\"\u001b[39m\u001b[38;5;124mWelcome to the Annual Tax Revenue (ATR) Determiner for Izfin Technology Staff\u001b[39m\u001b[38;5;124m\"\u001b[39m)\n\u001b[0;32m      5\u001b[0m Name \u001b[38;5;241m=\u001b[39m \u001b[38;5;28minput\u001b[39m(\u001b[38;5;124m\"\u001b[39m\u001b[38;5;124mEnter the staff\u001b[39m\u001b[38;5;124m'\u001b[39m\u001b[38;5;124ms name\u001b[39m\u001b[38;5;124m\"\u001b[39m)\n\u001b[1;32m----> 6\u001b[0m Experience \u001b[38;5;241m=\u001b[39m \u001b[38;5;28mint\u001b[39m(\u001b[38;5;28minput\u001b[39m(\u001b[38;5;124m\"\u001b[39m\u001b[38;5;124mEnter the staff\u001b[39m\u001b[38;5;124m'\u001b[39m\u001b[38;5;124ms Years of Experience\u001b[39m\u001b[38;5;124m\"\u001b[39m))\n\u001b[0;32m      7\u001b[0m Age \u001b[38;5;241m=\u001b[39m \u001b[38;5;28mint\u001b[39m(\u001b[38;5;28minput\u001b[39m(\u001b[38;5;124m\"\u001b[39m\u001b[38;5;124mEnter the staff\u001b[39m\u001b[38;5;124m'\u001b[39m\u001b[38;5;124ms Age\u001b[39m\u001b[38;5;124m\"\u001b[39m))\n\u001b[0;32m      9\u001b[0m \u001b[38;5;28;01mif\u001b[39;00m Experience \u001b[38;5;241m>\u001b[39m \u001b[38;5;241m25\u001b[39m \u001b[38;5;129;01mand\u001b[39;00m Age \u001b[38;5;241m>\u001b[39m\u001b[38;5;241m=\u001b[39m \u001b[38;5;241m55\u001b[39m:\n",
      "\u001b[1;31mValueError\u001b[0m: invalid literal for int() with base 10: ''"
     ]
    }
   ],
   "source": [
    "# Python code to assign Annual Tax Revenue (ATR) for staff at Izfin Technology\n",
    "\n",
    "print(\"Welcome to the Annual Tax Revenue (ATR) Determiner for Izfin Technology Staff\")\n",
    "\n",
    "Name = input(\"Enter the staff's name\")\n",
    "Experience = int(input(\"Enter the staff's Years of Experience\"))\n",
    "Age = int(input(\"Enter the staff's Age\"))\n",
    "\n",
    "if Experience > 25 and Age >= 55:\n",
    "    print(\"Your ATR is N5,600,000\")\n",
    "elif Experience > 20 and Age >= 45:\n",
    "    print(\"Your ATR is N4,480,000\")\n",
    "elif Experience > 10 and Age >= 35:\n",
    "    print(\"Your ATR is N1,500,000\")\n",
    "elif Experience < 10 and Age < 35: \n",
    "    print(\"Your ATR is N550,000\")\n",
    "else : print(\"Not a Suitable Criteria\")"
   ]
  },
  {
   "cell_type": "code",
   "execution_count": null,
   "id": "4086ef65-f8ea-49b2-86ac-2ce71db0b777",
   "metadata": {},
   "outputs": [],
   "source": []
  }
 ],
 "metadata": {
  "kernelspec": {
   "display_name": "Python 3 (ipykernel)",
   "language": "python",
   "name": "python3"
  },
  "language_info": {
   "codemirror_mode": {
    "name": "ipython",
    "version": 3
   },
   "file_extension": ".py",
   "mimetype": "text/x-python",
   "name": "python",
   "nbconvert_exporter": "python",
   "pygments_lexer": "ipython3",
   "version": "3.11.7"
  }
 },
 "nbformat": 4,
 "nbformat_minor": 5
}
