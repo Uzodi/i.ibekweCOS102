{
 "cells": [
  {
   "cell_type": "code",
   "execution_count": 2,
   "id": "14c9d6c5-c118-4807-bb44-678814425aa3",
   "metadata": {},
   "outputs": [
    {
     "name": "stdout",
     "output_type": "stream",
     "text": [
      "Welcome to the COUPE DE ESCRIVA 2023: FOOTBALL PICKS \n",
      "\n",
      "Madiba: Chubby Obiora-Okafor\n",
      "Blue-Jays: Christpher Uweh\n",
      "Cirok: Alexander\n",
      "TSG Walkers: Ikechukwu\n",
      "\n",
      "\n",
      "Madiba: Chubby Obiora-Okafor\n",
      "Blue-Jays: Oladimeji Abaniwondea/Jeffery Awagu\n",
      "Cirok: Timileyin Pearse/Izuako Jeremy\n",
      "TSG Walkers: Ayomide Ojituku\n"
     ]
    }
   ],
   "source": [
    "# COUPE DE ESCRIVA 2023: FOOTBALL PICKS\n",
    "\n",
    "print(\"Welcome to the COUPE DE ESCRIVA 2023: FOOTBALL PICKS \\n\")\n",
    "Captain  = {'Madiba:':'Chubby Obiora-Okafor','Blue-Jays:':'Christpher Uweh','Cirok:':'Alexander','TSG Walkers:':'Ikechukwu'}\n",
    "Goalkeepers ={'Madiba:':'Chubby Obiora-Okafor','Blue-Jays:':'Oladimeji Abaniwondea/Jeffery Awagu','Cirok:':'Timileyin Pearse/Izuako Jeremy','TSG Walkers:':'Ayomide Ojituku'}\n",
    "\n",
    "for pick in Captain:\n",
    "    print(pick, Captain[pick])\n",
    "\n",
    "print(\"\\n\")\n",
    "\n",
    "for pick in Goalkeepers:\n",
    "    print(pick, Goalkeepers[pick])\n"
   ]
  },
  {
   "cell_type": "code",
   "execution_count": null,
   "id": "80542f38-7764-4e7a-9873-b91efcd00023",
   "metadata": {},
   "outputs": [],
   "source": []
  }
 ],
 "metadata": {
  "kernelspec": {
   "display_name": "Python 3 (ipykernel)",
   "language": "python",
   "name": "python3"
  },
  "language_info": {
   "codemirror_mode": {
    "name": "ipython",
    "version": 3
   },
   "file_extension": ".py",
   "mimetype": "text/x-python",
   "name": "python",
   "nbconvert_exporter": "python",
   "pygments_lexer": "ipython3",
   "version": "3.11.7"
  }
 },
 "nbformat": 4,
 "nbformat_minor": 5
}
