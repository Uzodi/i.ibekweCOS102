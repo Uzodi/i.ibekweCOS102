{
 "cells": [
  {
   "cell_type": "code",
   "execution_count": 1,
   "id": "9879dde8-52f2-4d20-9085-72e81a4e7b2c",
   "metadata": {},
   "outputs": [
    {
     "name": "stdout",
     "output_type": "stream",
     "text": [
      " Hi my name is Iheanyichukwu. I am string \n",
      "<class 'str'>\n",
      " Hi my name is Ibekwe . I am also a string \n",
      "<class 'str'>\n"
     ]
    }
   ],
   "source": [
    "#pyton program to print string and type\n",
    "str1 = \" Hi my name is Iheanyichukwu. I am string \"\n",
    "str2 = ' Hi my name is Ibekwe . I am also a string '\n",
    "\n",
    "#displaying string str1 and its type \n",
    "print(str1)\n",
    "print(type(str1))\n",
    "\n",
    "#displaying string str2 and its type\n",
    "print(str2)\n",
    "print(type(str2))\n"
   ]
  },
  {
   "cell_type": "code",
   "execution_count": null,
   "id": "a08396f8-de19-41e3-a760-c7f8c262631b",
   "metadata": {},
   "outputs": [],
   "source": []
  }
 ],
 "metadata": {
  "kernelspec": {
   "display_name": "Python 3 (ipykernel)",
   "language": "python",
   "name": "python3"
  },
  "language_info": {
   "codemirror_mode": {
    "name": "ipython",
    "version": 3
   },
   "file_extension": ".py",
   "mimetype": "text/x-python",
   "name": "python",
   "nbconvert_exporter": "python",
   "pygments_lexer": "ipython3",
   "version": "3.11.7"
  }
 },
 "nbformat": 4,
 "nbformat_minor": 5
}
