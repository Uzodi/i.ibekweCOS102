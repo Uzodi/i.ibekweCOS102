{
 "cells": [
  {
   "cell_type": "code",
   "execution_count": 1,
   "id": "bd41b993-3f19-4099-9599-ac1c197ed362",
   "metadata": {},
   "outputs": [
    {
     "name": "stdin",
     "output_type": "stream",
     "text": [
      "enter principal value 35000.00\n",
      "Enter the rate value 4\n",
      "Enter the time value 3\n"
     ]
    },
    {
     "name": "stdout",
     "output_type": "stream",
     "text": [
      "39200.00000000001\n"
     ]
    }
   ],
   "source": [
    "# principal \n",
    "P = float(input(\"enter principal value\"))\n",
    "# rate \n",
    "R = int(input(\"Enter the rate value\"))\n",
    "#time\n",
    "T = int(input(\"Enter the time value\"))\n",
    "#Simple intrest\n",
    "A = P*(1+(R/100)*T)\n",
    "print(A)\n",
    "\n"
   ]
  },
  {
   "cell_type": "code",
   "execution_count": 2,
   "id": "e4f6a6fd-99dc-4bd1-80a9-6489d8012e04",
   "metadata": {},
   "outputs": [
    {
     "name": "stdin",
     "output_type": "stream",
     "text": [
      "Enter value of principal 600000.00\n",
      "Enter value of rate 4\n",
      "Enter value of number 2\n",
      "Enter value of time 3\n"
     ]
    },
    {
     "name": "stdout",
     "output_type": "stream",
     "text": [
      "437400000.0\n"
     ]
    }
   ],
   "source": [
    "#B\n",
    "#principal \n",
    "P = float(input(\"Enter value of principal\"))\n",
    "#rate \n",
    "R = int(input(\"Enter value of rate\"))\n",
    "#number\n",
    "n = int(input(\"Enter value of number\"))\n",
    "#time \n",
    "T = int(input(\"Enter value of time\"))\n",
    "#Compound Intrest\n",
    "A = P*pow((1+R/n),(n*T))\n",
    "print(A)\n",
    "\n",
    "          \n",
    "          "
   ]
  },
  {
   "cell_type": "code",
   "execution_count": 10,
   "id": "f69eb138-ba08-434b-88cd-475033944e27",
   "metadata": {},
   "outputs": [
    {
     "name": "stdin",
     "output_type": "stream",
     "text": [
      "Enter value of PMT 3000000\n",
      "Enter value of rate 3\n",
      "Enter Value of number 4\n",
      "Enter value of time 5\n"
     ]
    },
    {
     "name": "stdout",
     "output_type": "stream",
     "text": [
      "290278573760.5308\n"
     ]
    }
   ],
   "source": [
    "#C\n",
    "#PMT\n",
    "PMT = int(input(\"Enter value of PMT\"))\n",
    "#rate\n",
    "R = int(input(\"Enter value of rate\"))\n",
    "#number\n",
    "n = int(input(\"Enter Value of number\"))\n",
    "#time \n",
    "T = int(input(\"Enter value of time\"))\n",
    "#Anuuity plan \n",
    "A = PMT* (pow(1 + (R/n),(n*T))-1)/(R/n)\n",
    "print(A)\n",
    "\n"
   ]
  },
  {
   "cell_type": "code",
   "execution_count": null,
   "id": "009b7528-a955-42af-9ffd-f7e592bef751",
   "metadata": {},
   "outputs": [],
   "source": []
  }
 ],
 "metadata": {
  "kernelspec": {
   "display_name": "Python 3 (ipykernel)",
   "language": "python",
   "name": "python3"
  },
  "language_info": {
   "codemirror_mode": {
    "name": "ipython",
    "version": 3
   },
   "file_extension": ".py",
   "mimetype": "text/x-python",
   "name": "python",
   "nbconvert_exporter": "python",
   "pygments_lexer": "ipython3",
   "version": "3.11.7"
  }
 },
 "nbformat": 4,
 "nbformat_minor": 5
}
