{
 "cells": [
  {
   "cell_type": "code",
   "execution_count": 2,
   "id": "8f01139a-5d02-4f2c-be53-2d0e5f73f1ad",
   "metadata": {},
   "outputs": [
    {
     "name": "stdout",
     "output_type": "stream",
     "text": [
      "100\n",
      "Data type of variable num is <class 'int'>\n"
     ]
    }
   ],
   "source": [
    "# Tnteger number\n",
    "num = 100\n",
    "print(num)\n",
    "print(\"Data type of variable num is\",type (num))\n"
   ]
  },
  {
   "cell_type": "code",
   "execution_count": 3,
   "id": "d00b2175-6c22-4196-9c02-5ae8b0aed250",
   "metadata": {},
   "outputs": [
    {
     "name": "stdout",
     "output_type": "stream",
     "text": [
      "35.55\n",
      "Data Type of variable fnum is <class 'float'>\n"
     ]
    }
   ],
   "source": [
    "# float number \n",
    "fnum = 35.55\n",
    "print(fnum)\n",
    "print(\"Data Type of variable fnum is\", type(fnum))"
   ]
  },
  {
   "cell_type": "code",
   "execution_count": 1,
   "id": "7e615092-3635-4e60-89f0-7fb2babab68b",
   "metadata": {},
   "outputs": [
    {
     "name": "stdout",
     "output_type": "stream",
     "text": [
      "(3+4j)\n",
      "Data Type variable cnum is <class 'complex'>\n"
     ]
    }
   ],
   "source": [
    "#complex numbers\n",
    "cnum = 3 + 4j\n",
    "print(cnum)\n",
    "print(\"Data Type variable cnum is\", type(cnum))"
   ]
  },
  {
   "cell_type": "code",
   "execution_count": null,
   "id": "2b307f79-1c35-427a-bbb8-4ee68aa4822b",
   "metadata": {},
   "outputs": [],
   "source": []
  }
 ],
 "metadata": {
  "kernelspec": {
   "display_name": "Python 3 (ipykernel)",
   "language": "python",
   "name": "python3"
  },
  "language_info": {
   "codemirror_mode": {
    "name": "ipython",
    "version": 3
   },
   "file_extension": ".py",
   "mimetype": "text/x-python",
   "name": "python",
   "nbconvert_exporter": "python",
   "pygments_lexer": "ipython3",
   "version": "3.11.7"
  }
 },
 "nbformat": 4,
 "nbformat_minor": 5
}
